{
 "cells": [
  {
   "cell_type": "code",
   "execution_count": null,
   "id": "e69bed8c",
   "metadata": {},
   "outputs": [],
   "source": [
    "from PIL import Image\n",
    "import cv2\n",
    "import matplotlib.pyplot as plt\n",
    "import numpy as np\n",
    "import time\n",
    "\n",
    "\n",
    "# Load color image (BGR) and convert to gray\n",
    "img = cv2.imread(\"dog1.tif\")\n",
    "img_gray = cv2.cvtColor(img, cv2.COLOR_RGB2GRAY)\n",
    "\n",
    "N = 500\n",
    "st = time.time()\n",
    "U, S, V = np.linalg.svd(img_gray, full_matrices=False)\n",
    "A_simplify = U[:, :N] @ np.diag(S)[:N, :N] @ V[:N, :]\n",
    "et = time.time()\n",
    "overall_time = et - st\n",
    "print('Execution time:', overall_time, 'seconds')"
   ]
  },
  {
   "cell_type": "code",
   "execution_count": null,
   "id": "73441ee6",
   "metadata": {},
   "outputs": [],
   "source": [
    "fig, graph=plt.subplots(nrows = 1, ncols=1, figsize=(10,5))\n",
    "graph[0].imshow(img_gray, cmap='gray') #original image\n",
    "graph[0].title.set_text('Gray Dog1)')\n",
    "\n"
   ]
  },
  {
   "cell_type": "code",
   "execution_count": null,
   "id": "9d14e3a7",
   "metadata": {},
   "outputs": [],
   "source": [
    "plt.imshow(A_simplify, cmap='gray', vmin = 0, vmax = 255) #simplified image"
   ]
  },
  {
   "cell_type": "code",
   "execution_count": null,
   "id": "9c5557ee",
   "metadata": {},
   "outputs": [],
   "source": [
    "#Color picture (note that Jupyter notebook prints on BGR instead of RGB)\n",
    "dog2 = cv2.imread('dog2.tif')\n",
    "plt.imshow(cv2.cvtColor(dog2, cv2.COLOR_BGR2RGB))\n",
    "plt.show() #show the original image\n"
   ]
  },
  {
   "cell_type": "code",
   "execution_count": null,
   "id": "8af97574",
   "metadata": {},
   "outputs": [],
   "source": [
    "st_color = time.time()\n",
    "\n",
    "U_r, S_r, V_r = np.linalg.svd(dog2[:,:,0], full_matrices=False)\n",
    "red_matrix = U_r[:, :N] @ np.diag(S_r[:N]) @ V_r[:N, :]\n",
    "\n",
    "U_g, S_g, V_g = np.linalg.svd(dog2[:,:,1], full_matrices=False)\n",
    "green_matrix = U_g[:, :N] @ np.diag(S_g[:N]) @ V_g[:N, :]\n",
    "\n",
    "U_b, S_b, V_b = np.linalg.svd(dog2[:,:,2], full_matrices=False)\n",
    "blue_matrix = U_b[:, :N] @ np.diag(S_b[:N]) @ V_b[:N, :]\n",
    "\n",
    "image_reconstruct = np.zeros((red_matrix.shape[0], red_matrix.shape[1], 3))\n",
    "image_reconstruct[:, :, 0]= red_matrix\n",
    "image_reconstruct[:, :, 1] = green_matrix\n",
    "image_reconstruct[:, :, 2] = blue_matrix\n",
    "\n",
    "et_color = time.time()\n",
    "\n",
    "overall_time_color = et_color - st_color\n",
    "print('Execution time:' overall_time_color, 'seconds')"
   ]
  },
  {
   "cell_type": "code",
   "execution_count": null,
   "id": "bbc1a90d",
   "metadata": {},
   "outputs": [],
   "source": [
    "# Jupyter notebook prints on BGR instead of RGB\n",
    "image_n = np.zeros((red_matrix.shape[0], red_matrix.shape[1], 3))\n",
    "image_n[:, :, 0]= blue_matrix\n",
    "image_n[:, :, 1] = green_matrix\n",
    "image_n[:, :, 2] = red_matrix\n",
    "plt.imshow(image_n / 255)"
   ]
  }
 ],
 "metadata": {
  "kernelspec": {
   "display_name": "Python 3 (ipykernel)",
   "language": "python",
   "name": "python3"
  },
  "language_info": {
   "codemirror_mode": {
    "name": "ipython",
    "version": 3
   },
   "file_extension": ".py",
   "mimetype": "text/x-python",
   "name": "python",
   "nbconvert_exporter": "python",
   "pygments_lexer": "ipython3",
   "version": "3.9.7"
  }
 },
 "nbformat": 4,
 "nbformat_minor": 5
}
